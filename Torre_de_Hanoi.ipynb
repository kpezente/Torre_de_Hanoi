{
 "cells": [
  {
   "cell_type": "code",
   "execution_count": 1,
   "metadata": {},
   "outputs": [],
   "source": [
    "import tkinter as tk\n",
    "import time\n",
    "\n",
    "def desenhar_torres(canvas, torres):\n",
    "    canvas.delete(\"all\")\n",
    "    base_x = [50, 175, 300]\n",
    "    base_y = 250\n",
    "    largura_torre = 10\n",
    "    altura_torre = 150\n",
    "    \n",
    "    # Desenha as torres\n",
    "    for x in base_x:\n",
    "        canvas.create_rectangle(x, base_y - altura_torre, x + largura_torre, base_y, fill=\"black\")\n",
    "    \n",
    "    # Desenha os discos\n",
    "    for i, torre in enumerate(torres):\n",
    "        for j, disco in enumerate(torre):\n",
    "            largura_disco = 20 + disco * 20\n",
    "            x_disco = base_x[i] - (largura_disco - largura_torre) // 2\n",
    "            y_disco = base_y - (j + 1) * 20\n",
    "            canvas.create_rectangle(x_disco, y_disco, x_disco + largura_disco, y_disco + 15, fill=\"blue\")\n",
    "    \n",
    "    canvas.update()\n",
    "    time.sleep(0.5)\n",
    "\n",
    "def mover_disco(origem, destino, canvas):\n",
    "    disco = origem.pop()\n",
    "    destino.append(disco)\n",
    "    desenhar_torres(canvas, [torre_A, torre_B, torre_C])\n",
    "\n",
    "def torres_de_hanoi_recursivo(num_discos, origem, destino, auxiliar, canvas):\n",
    "    if num_discos == 1:\n",
    "        mover_disco(origem, destino, canvas)\n",
    "    else:\n",
    "        torres_de_hanoi_recursivo(num_discos - 1, origem, auxiliar, destino, canvas)\n",
    "        mover_disco(origem, destino, canvas)\n",
    "        torres_de_hanoi_recursivo(num_discos - 1, auxiliar, destino, origem, canvas)\n",
    "\n",
    "# Inicializando interface gráfica\n",
    "root = tk.Tk()\n",
    "root.title(\"Torres de Hanói\")\n",
    "canvas = tk.Canvas(root, width=400, height=300, bg=\"white\")\n",
    "canvas.pack()\n",
    "\n",
    "# Inicializando as torres e os discos\n",
    "num_disco = 3\n",
    "torre_A = list(range(num_disco, 0, -1))\n",
    "torre_B = []\n",
    "torre_C = []\n",
    "\n",
    "desenhar_torres(canvas, [torre_A, torre_B, torre_C])\n",
    "torres_de_hanoi_recursivo(num_disco, torre_A, torre_C, torre_B, canvas)\n",
    "\n",
    "root.mainloop()"
   ]
  }
 ],
 "metadata": {
  "kernelspec": {
   "display_name": "base",
   "language": "python",
   "name": "python3"
  },
  "language_info": {
   "codemirror_mode": {
    "name": "ipython",
    "version": 3
   },
   "file_extension": ".py",
   "mimetype": "text/x-python",
   "name": "python",
   "nbconvert_exporter": "python",
   "pygments_lexer": "ipython3",
   "version": "3.12.4"
  }
 },
 "nbformat": 4,
 "nbformat_minor": 2
}
